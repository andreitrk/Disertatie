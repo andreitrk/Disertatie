{
 "cells": [
  {
   "cell_type": "code",
   "execution_count": 3,
   "metadata": {},
   "outputs": [
    {
     "name": "stderr",
     "output_type": "stream",
     "text": [
      "[nltk_data] Downloading package stopwords to\n",
      "[nltk_data]     C:\\Users\\tranca\\AppData\\Roaming\\nltk_data...\n",
      "[nltk_data]   Package stopwords is already up-to-date!\n"
     ]
    }
   ],
   "source": [
    "import sys\n",
    "#!{sys.executable} -m pip install pandas\n",
    "#!{sys.executable} -m pip install nltk\n",
    "#!{sys.executable} -m pip install re\n",
    "#!{sys.executable} -m pip install matplotlib\n",
    "#!{sys.executable} -m pip install sklearn\n",
    "#!{sys.executable} -m pip install joblib\n",
    "#!{sys.executable} -m pip install numpy\n",
    "#!{sys.executable} -m pip install itertools\n",
    "\n",
    "\n",
    "import pandas as pd\n",
    "import nltk\n",
    "import re\n",
    "from nltk.corpus import stopwords\n",
    "from nltk.stem import PorterStemmer\n",
    "from nltk.tokenize import word_tokenize\n",
    "nltk.download('stopwords')\n",
    "import matplotlib.pyplot as plt\n",
    "from sklearn.feature_extraction.text import CountVectorizer, TfidfTransformer\n",
    "from sklearn.metrics import classification_report,confusion_matrix\n",
    "from sklearn.metrics import accuracy_score, f1_score, precision_score, recall_score\n",
    "from sklearn.svm import LinearSVC\n",
    "from sklearn.pipeline import Pipeline\n",
    "from sklearn.linear_model import SGDClassifier, LogisticRegression\n",
    "from sklearn.neural_network import MLPClassifier, MLPRegressor\n",
    "from joblib import dump, load\n",
    "from sklearn.ensemble import GradientBoostingClassifier, RandomForestClassifier\n",
    "from sklearn import tree\n",
    "import numpy as np\n",
    "import itertools\n",
    "import openpyxl"
   ]
  },
  {
   "cell_type": "code",
   "execution_count": 32,
   "metadata": {},
   "outputs": [],
   "source": [
    "def plot_confusion_matrix(cm,\n",
    "                          target_names,\n",
    "                          title='Confusion matrix',\n",
    "                          cmap=None,\n",
    "                          normalize=True):\n",
    "    \"\"\"\n",
    "    given a sklearn confusion matrix (cm), make a nice plot\n",
    "\n",
    "    Arguments\n",
    "    ---------\n",
    "    cm:           confusion matrix from sklearn.metrics.confusion_matrix\n",
    "\n",
    "    target_names: given classification classes such as [0, 1, 2]\n",
    "                  the class names, for example: ['high', 'medium', 'low']\n",
    "\n",
    "    title:        the text to display at the top of the matrix\n",
    "\n",
    "    cmap:         the gradient of the values displayed from matplotlib.pyplot.cm\n",
    "                  see http://matplotlib.org/examples/color/colormaps_reference.html\n",
    "                  plt.get_cmap('jet') or plt.cm.Blues\n",
    "\n",
    "    normalize:    If False, plot the raw numbers\n",
    "                  If True, plot the proportions\n",
    "\n",
    "    Usage\n",
    "    -----\n",
    "    plot_confusion_matrix(cm           = cm,                  # confusion matrix created by\n",
    "                                                              # sklearn.metrics.confusion_matrix\n",
    "                          normalize    = True,                # show proportions\n",
    "                          target_names = y_labels_vals,       # list of names of the classes\n",
    "                          title        = best_estimator_name) # title of graph\n",
    "\n",
    "    Citiation\n",
    "    ---------\n",
    "    http://scikit-learn.org/stable/auto_examples/model_selection/plot_confusion_matrix.html\n",
    "\n",
    "    \"\"\"\n",
    "\n",
    "    accuracy = np.trace(cm) / float(np.sum(cm))\n",
    "    misclass = 1 - accuracy\n",
    "\n",
    "    if cmap is None:\n",
    "        cmap = plt.get_cmap('Blues')\n",
    "\n",
    "    plt.figure(figsize=(5, 4))\n",
    "    plt.imshow(cm, interpolation='nearest', cmap=cmap)\n",
    "    plt.title(title)\n",
    "    plt.colorbar()\n",
    "\n",
    "    if target_names is not None:\n",
    "        tick_marks = np.arange(len(target_names))\n",
    "        plt.xticks(tick_marks, target_names, rotation=45)\n",
    "        plt.yticks(tick_marks, target_names)\n",
    "\n",
    "    if normalize:\n",
    "        cm = cm.astype('float') / cm.sum(axis=1)[:, np.newaxis]\n",
    "\n",
    "\n",
    "    thresh = cm.max() / 1.5 if normalize else cm.max() / 2\n",
    "    for i, j in itertools.product(range(cm.shape[0]), range(cm.shape[1])):\n",
    "        if normalize:\n",
    "            plt.text(j, i, \"{:0.4f}\".format(cm[i, j]),\n",
    "                     horizontalalignment=\"center\",\n",
    "                     color=\"white\" if cm[i, j] > thresh else \"black\")\n",
    "        else:\n",
    "            plt.text(j, i, \"{:,}\".format(cm[i, j]),\n",
    "                     horizontalalignment=\"center\",\n",
    "                     color=\"white\" if cm[i, j] > thresh else \"black\")\n",
    "\n",
    "\n",
    "    plt.tight_layout()\n",
    "    plt.ylabel('True label')\n",
    "    #plt.xlabel('Predicted label\\naccuracy={:0.4f}; misclass={:0.4f}'.format(accuracy, misclass))\n",
    "    plt.xlabel('Predicted label')\n",
    "    plt.show()"
   ]
  },
  {
   "cell_type": "code",
   "execution_count": 11,
   "metadata": {},
   "outputs": [],
   "source": [
    "stops = set(stopwords.words(\"english\"))\n",
    "def cleantext(string):\n",
    "    text = string.lower().split()\n",
    "    text = \" \".join(text)\n",
    "    text = re.sub(r\"http(\\S)+\",' ',text)    \n",
    "    text = re.sub(r\"www(\\S)+\",' ',text)\n",
    "    text = re.sub(r\"&\",' and ',text)  \n",
    "    tx = text.replace('&amp',' ')\n",
    "    text = re.sub(r\"[^0-9a-zA-Z]+\",' ',text)\n",
    "    text = text.split()\n",
    "    text = [w for w in text if not w in stops]\n",
    "    text = \" \".join(text)\n",
    "    return text"
   ]
  },
  {
   "cell_type": "code",
   "execution_count": 34,
   "metadata": {},
   "outputs": [
    {
     "name": "stdout",
     "output_type": "stream",
     "text": [
      "        id                                              tweet label\n",
      "6421  6422             Alfalfa is the only cure for COVID-19.  fake\n",
      "6422  6423  President Trump Asked What He Would Do If He W...  fake\n",
      "6423  6424  States reported 630 deaths. We are still seein...  real\n",
      "6424  6425  This is the sixth time a global health emergen...  real\n",
      "6425  6426  Low #vitaminD was an independent predictor of ...  real\n",
      "...    ...                                                ...   ...\n",
      "8555  8556  #CoronaVirusUpdates: State-wise details of Tot...  real\n",
      "8556  8557  Tonight 12(midnight) onwards Disaster Manageme...  fake\n",
      "8557  8558  296 new cases of #COVID19Nigeria; Plateau-85 E...  real\n",
      "8558  8559  RT @CDCemergency: #DYK? @CDCgovâ€™s One-Stop S...  real\n",
      "8559  8560  More than half of pregnant women recently admi...  real\n",
      "\n",
      "[2139 rows x 3 columns]\n"
     ]
    }
   ],
   "source": [
    "xlsdata = pd.ExcelFile('C:/Users/tranca/Desktop/DISER/train_test.xlsx', engine='openpyxl') \n",
    "traintest = pd.read_excel(xlsdata, header = 0)\n",
    "traintest_train = traintest.iloc[1:6421]\n",
    "traintest_test = traintest.iloc[6421:8560]\n",
    "print(traintest_test)\n",
    "#xls09 = pd.ExcelFile('C:/Users/tranca/Desktop/DISER/disertatie/26APR.xlsx', engine='openpyxl')\n",
    "#data09 = pd.read_excel(xls09, header = 0)"
   ]
  },
  {
   "cell_type": "code",
   "execution_count": 35,
   "metadata": {},
   "outputs": [
    {
     "name": "stderr",
     "output_type": "stream",
     "text": [
      "C:\\Users\\tranca\\AppData\\Local\\Temp\\ipykernel_18028\\2834896120.py:1: SettingWithCopyWarning: \n",
      "A value is trying to be set on a copy of a slice from a DataFrame.\n",
      "Try using .loc[row_indexer,col_indexer] = value instead\n",
      "\n",
      "See the caveats in the documentation: https://pandas.pydata.org/pandas-docs/stable/user_guide/indexing.html#returning-a-view-versus-a-copy\n",
      "  traintest_train['label'] = traintest_train['label'].astype(str)\n",
      "C:\\Users\\tranca\\AppData\\Local\\Temp\\ipykernel_18028\\2834896120.py:2: SettingWithCopyWarning: \n",
      "A value is trying to be set on a copy of a slice from a DataFrame.\n",
      "Try using .loc[row_indexer,col_indexer] = value instead\n",
      "\n",
      "See the caveats in the documentation: https://pandas.pydata.org/pandas-docs/stable/user_guide/indexing.html#returning-a-view-versus-a-copy\n",
      "  traintest_train['tweet'] = traintest_train['tweet'].astype(str)\n",
      "C:\\Users\\tranca\\AppData\\Local\\Temp\\ipykernel_18028\\2834896120.py:5: SettingWithCopyWarning: \n",
      "A value is trying to be set on a copy of a slice from a DataFrame.\n",
      "Try using .loc[row_indexer,col_indexer] = value instead\n",
      "\n",
      "See the caveats in the documentation: https://pandas.pydata.org/pandas-docs/stable/user_guide/indexing.html#returning-a-view-versus-a-copy\n",
      "  traintest_test['label'] = traintest_test['label'].astype(str)\n",
      "C:\\Users\\tranca\\AppData\\Local\\Temp\\ipykernel_18028\\2834896120.py:6: SettingWithCopyWarning: \n",
      "A value is trying to be set on a copy of a slice from a DataFrame.\n",
      "Try using .loc[row_indexer,col_indexer] = value instead\n",
      "\n",
      "See the caveats in the documentation: https://pandas.pydata.org/pandas-docs/stable/user_guide/indexing.html#returning-a-view-versus-a-copy\n",
      "  traintest_test['tweet'] = traintest_test['tweet'].astype(str)\n"
     ]
    }
   ],
   "source": [
    "traintest_train['label'] = traintest_train['label'].astype(str)\n",
    "traintest_train['tweet'] = traintest_train['tweet'].astype(str)\n",
    "#traintest_train['tweet'] = traintest_train['tweet'].map(lambda x: cleantext(x))\n",
    "\n",
    "traintest_test['label'] = traintest_test['label'].astype(str)\n",
    "traintest_test['tweet'] = traintest_test['tweet'].astype(str)\n",
    "#traintest_test['tweet'] = traintest_test['tweet'].map(lambda x: cleantext(x))\n",
    "\n",
    "#data09['tweet'] = data09['tweet'].astype(str)"
   ]
  },
  {
   "cell_type": "code",
   "execution_count": 36,
   "metadata": {},
   "outputs": [],
   "source": [
    "def print_metrices(pred,true):\n",
    "    print(confusion_matrix(true,pred))\n",
    "    print(classification_report(true,pred,))\n",
    "    print(\"Accuracy : \",accuracy_score(pred,true))\n",
    "    print(\"Precison : \",precision_score(pred,true, average = 'weighted'))\n",
    "    print(\"Recall : \",recall_score(pred,true,  average = 'weighted'))\n",
    "    print(\"F1 : \",f1_score(pred,true,  average = 'weighted'))\n",
    "    \n",
    "    "
   ]
  },
  {
   "cell_type": "code",
   "execution_count": 37,
   "metadata": {},
   "outputs": [
    {
     "name": "stdout",
     "output_type": "stream",
     "text": [
      "SVM\n",
      "test:\n",
      "[[ 940   80]\n",
      " [  49 1070]]\n",
      "              precision    recall  f1-score   support\n",
      "\n",
      "        fake       0.95      0.92      0.94      1020\n",
      "        real       0.93      0.96      0.94      1119\n",
      "\n",
      "    accuracy                           0.94      2139\n",
      "   macro avg       0.94      0.94      0.94      2139\n",
      "weighted avg       0.94      0.94      0.94      2139\n",
      "\n",
      "Accuracy :  0.9396914446002805\n",
      "Precison :  0.9401935065588402\n",
      "Recall :  0.9396914446002805\n",
      "F1 :  0.9397447620710146\n"
     ]
    },
    {
     "data": {
      "image/png": "[encoded data removed]",
      "text/plain": [
       "<Figure size 360x288 with 2 Axes>"
      ]
     },
     "metadata": {
      "needs_background": "light"
     },
     "output_type": "display_data"
    }
   ],
   "source": [
    "pipeline = Pipeline([\n",
    "        ('bow', CountVectorizer()),  \n",
    "        ('tfidf', TfidfTransformer()),  \n",
    "        ('c', LinearSVC())\n",
    "    ])\n",
    "fit = pipeline.fit(traintest_train['tweet'],traintest_train['label'])\n",
    "print('SVM')\n",
    "print ('test:')\n",
    "\n",
    "pred=pipeline.predict(traintest_test['tweet'])\n",
    "print_metrices(pred,traintest_test['label'])\n",
    "plot_confusion_matrix(confusion_matrix(traintest_test['label'],pred),target_names=['fake','real'], normalize = False, \\\n",
    "                      title = 'Matricea de confuzie pentru SVM')"
   ]
  },
  {
   "cell_type": "code",
   "execution_count": 33,
   "metadata": {},
   "outputs": [
    {
     "name": "stdout",
     "output_type": "stream",
     "text": [
      "['real' 'real' 'fake' ... 'fake' 'fake' 'fake']\n",
      "          id                                              tweet label\n",
      "0          1  #Coronavirus Chronology Article 75 is out with...  real\n",
      "1          2  Covid a leggo the bird now https://t.co/TxBcmX...  real\n",
      "2          3  Americans should be asking why the Biden admin...  fake\n",
      "3          4  @apmassaro3 It’s all about pressure points wit...  fake\n",
      "4          5  @dzoolander85 Amazing fear mongering.  You are...  fake\n",
      "...      ...                                                ...   ...\n",
      "14995  14996  15/P_x000D_\\n_x000D_\\nThis helps explain why t...  real\n",
      "14996  14997  Ivermectin does not reduce risk of COVID-19 _x...  fake\n",
      "14997  14998  @laurenmill3r93 @mikalche @lopezobrador_ @Ocug...  fake\n",
      "14998  14999  Indeed, you will know that we surely are truth...  fake\n",
      "14999  15000  #SaudiArabia  General Presidency for the Affai...  fake\n",
      "\n",
      "[15000 rows x 3 columns]\n"
     ]
    }
   ],
   "source": [
    "predata=pipeline.predict(data09['tweet'])\n",
    "print(predata)\n",
    "data_df = pd.DataFrame(data09)\n",
    "data_df['label'] = predata\n",
    "print(data_df)\n",
    "data_df.to_excel('26APRlabel.xlsx')"
   ]
  },
  {
   "cell_type": "code",
   "execution_count": 38,
   "metadata": {},
   "outputs": [
    {
     "name": "stdout",
     "output_type": "stream",
     "text": [
      "Logistic Regression\n",
      "test:\n",
      "[[ 926   94]\n",
      " [  61 1058]]\n",
      "              precision    recall  f1-score   support\n",
      "\n",
      "        fake       0.94      0.91      0.92      1020\n",
      "        real       0.92      0.95      0.93      1119\n",
      "\n",
      "    accuracy                           0.93      2139\n",
      "   macro avg       0.93      0.93      0.93      2139\n",
      "weighted avg       0.93      0.93      0.93      2139\n",
      "\n",
      "Accuracy :  0.927536231884058\n",
      "Precison :  0.9281169933878668\n",
      "Recall :  0.927536231884058\n",
      "F1 :  0.9276054857908298\n"
     ]
    },
    {
     "data": {
      "image/png": "[encoded data removed]",
      "text/plain": [
       "<Figure size 360x288 with 2 Axes>"
      ]
     },
     "metadata": {
      "needs_background": "light"
     },
     "output_type": "display_data"
    }
   ],
   "source": [
    "pipeline = Pipeline([\n",
    "        ('bow', CountVectorizer()),  \n",
    "        ('tfidf', TfidfTransformer()),  \n",
    "        ('c', LogisticRegression())\n",
    "    ])\n",
    "fit = pipeline.fit(traintest_train['tweet'],traintest_train['label'])\n",
    "print('Logistic Regression')\n",
    "print ('test:')\n",
    "pred=pipeline.predict(traintest_test['tweet'])\n",
    "\n",
    "print_metrices(pred,traintest_test['label'])\n",
    "plot_confusion_matrix(confusion_matrix(traintest_test['label'],pred),target_names=['fake','real'], normalize = False, \\\n",
    "                      title = 'Matricea de confuzie pentru LR')"
   ]
  },
  {
   "cell_type": "code",
   "execution_count": 39,
   "metadata": {},
   "outputs": [
    {
     "name": "stdout",
     "output_type": "stream",
     "text": [
      "Gradient Boost\n",
      "test:\n",
      "[[ 896  124]\n",
      " [ 108 1011]]\n",
      "              precision    recall  f1-score   support\n",
      "\n",
      "        fake       0.89      0.88      0.89      1020\n",
      "        real       0.89      0.90      0.90      1119\n",
      "\n",
      "    accuracy                           0.89      2139\n",
      "   macro avg       0.89      0.89      0.89      2139\n",
      "weighted avg       0.89      0.89      0.89      2139\n",
      "\n",
      "Accuracy :  0.8915381019167835\n",
      "Precison :  0.8917255082348212\n",
      "Recall :  0.8915381019167835\n",
      "F1 :  0.8915818471366282\n"
     ]
    },
    {
     "data": {
      "image/png": "[encoded data removed]",
      "text/plain": [
       "<Figure size 360x288 with 2 Axes>"
      ]
     },
     "metadata": {
      "needs_background": "light"
     },
     "output_type": "display_data"
    }
   ],
   "source": [
    "#minor variations in finla results due to randomness\n",
    "pipeline = Pipeline([\n",
    "        ('bow', CountVectorizer()),  \n",
    "        ('tfidf', TfidfTransformer()),  \n",
    "        ('c', GradientBoostingClassifier())\n",
    "    ])\n",
    "fit = pipeline.fit(traintest_train['tweet'],traintest_train['label'])\n",
    "print('Gradient Boost')\n",
    "print ('test:')\n",
    "pred=pipeline.predict(traintest_test['tweet'])\n",
    "\n",
    "print_metrices(pred,traintest_test['label'])\n",
    "plot_confusion_matrix(confusion_matrix(traintest_test['label'],pred),target_names=['fake','real'], normalize = False, \\\n",
    "                      title = 'Matricea de confuzie pentru GDBT')"
   ]
  },
  {
   "cell_type": "code",
   "execution_count": 40,
   "metadata": {},
   "outputs": [
    {
     "name": "stdout",
     "output_type": "stream",
     "text": [
      "Decision Tree\n",
      "test:\n",
      "[[ 875  145]\n",
      " [ 110 1009]]\n",
      "              precision    recall  f1-score   support\n",
      "\n",
      "        fake       0.89      0.86      0.87      1020\n",
      "        real       0.87      0.90      0.89      1119\n",
      "\n",
      "    accuracy                           0.88      2139\n",
      "   macro avg       0.88      0.88      0.88      2139\n",
      "weighted avg       0.88      0.88      0.88      2139\n",
      "\n",
      "Accuracy :  0.8807854137447405\n",
      "Precison :  0.8815030005875862\n",
      "Recall :  0.8807854137447405\n",
      "F1 :  0.8809080978855843\n"
     ]
    },
    {
     "data": {
      "image/png": "[encoded data removed]",
      "text/plain": [
       "<Figure size 360x288 with 2 Axes>"
      ]
     },
     "metadata": {
      "needs_background": "light"
     },
     "output_type": "display_data"
    }
   ],
   "source": [
    "#minor variations in final results due to randomness\n",
    "pipeline = Pipeline([\n",
    "        ('bow', CountVectorizer()),  \n",
    "        ('tfidf', TfidfTransformer()),  \n",
    "        ('c', tree.DecisionTreeClassifier())\n",
    "    ])\n",
    "fit = pipeline.fit(traintest_train['tweet'],traintest_train['label'])\n",
    "print('Decision Tree')\n",
    "print ('test:')\n",
    "pred=pipeline.predict(traintest_test['tweet'])\n",
    "\n",
    "print_metrices(pred,traintest_test['label'])\n",
    "plot_confusion_matrix(confusion_matrix(traintest_test['label'],pred),target_names=['fake','real'], normalize = False, \\\n",
    "                      title = 'Matricea de confuzie pentru DT')"
   ]
  },
  {
   "cell_type": "code",
   "execution_count": 42,
   "metadata": {},
   "outputs": [
    {
     "name": "stdout",
     "output_type": "stream",
     "text": [
      "SVM\n",
      "test:\n",
      "['real' 'fake' 'real' ... 'fake' 'real' 'real']\n",
      "          id                                              tweet label\n",
      "0          1  AwesomeCapital: CDC's New Guidelines on COVID ...  real\n",
      "1          2  Remote communities closing up the Kimberley co...  fake\n",
      "2          3  COVID-19 Cases, Deaths Continue To Drop Global...  real\n",
      "3          4  @Struan_Tokyo I know that at one point Nagano ...  real\n",
      "4          5  Mental Health &amp; Covid 19 https://t.co/RRBP...  real\n",
      "...      ...                                                ...   ...\n",
      "14995  14996  Registration for Advanced Aquatic Leadership c...  fake\n",
      "14996  14997  @CashApp Hope everyone is doing well, especial...  fake\n",
      "14997  14998  Government's drug and alcohol plans must be cl...  fake\n",
      "14998  14999  @AFabulousState https://t.co/48GaAoYjmj :) _x0...  real\n",
      "14999  15000  Many long term care residents died in COVID-19...  real\n",
      "\n",
      "[15000 rows x 3 columns]\n"
     ]
    }
   ],
   "source": [
    "pipeline = Pipeline([\n",
    "        ('bow', CountVectorizer()),  \n",
    "        ('tfidf', TfidfTransformer()),  \n",
    "        ('c', LinearSVC())\n",
    "    ])\n",
    "fit = pipeline.fit(traintest_train['tweet'],traintest_train['label'])\n",
    "print('SVM')\n",
    "print ('test:')\n",
    "pred=pipeline.predict(data09['tweet'])\n",
    "print(pred)\n",
    "data_df = pd.DataFrame(data09)\n",
    "data_df['label'] = pred\n",
    "print(data_df)\n",
    "data_df.to_excel('data09label.xlsx')"
   ]
  },
  {
   "cell_type": "code",
   "execution_count": 41,
   "metadata": {},
   "outputs": [
    {
     "name": "stdout",
     "output_type": "stream",
     "text": [
      "Decision Tree\n",
      "test:\n",
      "[[ 919  101]\n",
      " [  87 1032]]\n",
      "              precision    recall  f1-score   support\n",
      "\n",
      "        fake       0.91      0.90      0.91      1020\n",
      "        real       0.91      0.92      0.92      1119\n",
      "\n",
      "    accuracy                           0.91      2139\n",
      "   macro avg       0.91      0.91      0.91      2139\n",
      "weighted avg       0.91      0.91      0.91      2139\n",
      "\n",
      "Accuracy :  0.9121084618980833\n",
      "Precison :  0.9122476870780449\n",
      "Recall :  0.9121084618980833\n",
      "F1 :  0.9121389370385916\n"
     ]
    },
    {
     "data": {
      "image/png": "[encoded data removed]",
      "text/plain": [
       "<Figure size 360x288 with 2 Axes>"
      ]
     },
     "metadata": {
      "needs_background": "light"
     },
     "output_type": "display_data"
    }
   ],
   "source": [
    "pipeline = Pipeline([\n",
    "        ('bow', CountVectorizer()),  \n",
    "        ('tfidf', TfidfTransformer()),  \n",
    "        ('c', RandomForestClassifier())\n",
    "    ])\n",
    "fit = pipeline.fit(traintest_train['tweet'],traintest_train['label'])\n",
    "print('Decision Tree')\n",
    "print ('test:')\n",
    "pred=pipeline.predict(traintest_test['tweet'])\n",
    "\n",
    "print_metrices(pred,traintest_test['label'])\n",
    "plot_confusion_matrix(confusion_matrix(traintest_test['label'],pred),target_names=['fake','real'], normalize = False, \\\n",
    "                      title = 'Matricea de confuzie pentru RF')"
   ]
  },
  {
   "cell_type": "code",
   "execution_count": 42,
   "metadata": {},
   "outputs": [
    {
     "name": "stdout",
     "output_type": "stream",
     "text": [
      "Decision Tree\n",
      "test:\n",
      "[[ 946   74]\n",
      " [  50 1069]]\n",
      "              precision    recall  f1-score   support\n",
      "\n",
      "        fake       0.95      0.93      0.94      1020\n",
      "        real       0.94      0.96      0.95      1119\n",
      "\n",
      "    accuracy                           0.94      2139\n",
      "   macro avg       0.94      0.94      0.94      2139\n",
      "weighted avg       0.94      0.94      0.94      2139\n",
      "\n",
      "Accuracy :  0.9420289855072463\n",
      "Precison :  0.9423416504963099\n",
      "Recall :  0.9420289855072463\n",
      "F1 :  0.9420665125312802\n"
     ]
    },
    {
     "data": {
      "image/png": "[encoded data removed]",
      "text/plain": [
       "<Figure size 360x288 with 2 Axes>"
      ]
     },
     "metadata": {
      "needs_background": "light"
     },
     "output_type": "display_data"
    }
   ],
   "source": [
    "pipeline = Pipeline([\n",
    "        ('bow', CountVectorizer()),  \n",
    "        ('tfidf', TfidfTransformer()),  \n",
    "        ('c',MLPClassifier())\n",
    "    ])\n",
    "fit = pipeline.fit(traintest_train['tweet'],traintest_train['label'])\n",
    "print('Decision Tree')\n",
    "print ('test:')\n",
    "pred=pipeline.predict(traintest_test['tweet'])\n",
    "\n",
    "print_metrices(pred,traintest_test['label'])\n",
    "plot_confusion_matrix(confusion_matrix(traintest_test['label'],pred),target_names=['fake','real'], normalize = False, \\\n",
    "                      title = 'Matricea de confuzie pentru MLP')"
   ]
  },
  {
   "cell_type": "code",
   "execution_count": null,
   "metadata": {},
   "outputs": [],
   "source": []
  }
 ],
 "metadata": {
  "kernelspec": {
   "display_name": "Python 3 (ipykernel)",
   "language": "python",
   "name": "python3"
  },
  "language_info": {
   "codemirror_mode": {
    "name": "ipython",
    "version": 3
   },
   "file_extension": ".py",
   "mimetype": "text/x-python",
   "name": "python",
   "nbconvert_exporter": "python",
   "pygments_lexer": "ipython3",
   "version": "3.10.3"
  }
 },
 "nbformat": 4,
 "nbformat_minor": 2
}
