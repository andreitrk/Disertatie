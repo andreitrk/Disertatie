{
 "cells": [
  {
   "cell_type": "code",
   "execution_count": 1,
   "id": "4dafaa5a",
   "metadata": {},
   "outputs": [
    {
     "name": "stderr",
     "output_type": "stream",
     "text": [
      "[nltk_data] Downloading package stopwords to\n",
      "[nltk_data]     C:\\Users\\tranca\\AppData\\Roaming\\nltk_data...\n",
      "[nltk_data]   Package stopwords is already up-to-date!\n"
     ]
    }
   ],
   "source": [
    "import sys\n",
    "#!{sys.executable} -m pip install pandas\n",
    "#!{sys.executable} -m pip install nltk\n",
    "#!{sys.executable} -m pip install re\n",
    "#!{sys.executable} -m pip install matplotlib\n",
    "#!{sys.executable} -m pip install sklearn\n",
    "#!{sys.executable} -m pip install joblib\n",
    "#!{sys.executable} -m pip install numpy\n",
    "#!{sys.executable} -m pip install itertools\n",
    "\n",
    "\n",
    "import pandas as pd\n",
    "import nltk\n",
    "import re\n",
    "from nltk.corpus import stopwords\n",
    "nltk.download('stopwords')\n",
    "import matplotlib.pyplot as plt\n",
    "from sklearn.feature_extraction.text import CountVectorizer, TfidfTransformer\n",
    "from sklearn.metrics import classification_report,confusion_matrix\n",
    "from sklearn.metrics import accuracy_score, f1_score, precision_score, recall_score\n",
    "from sklearn.svm import LinearSVC\n",
    "from sklearn.pipeline import Pipeline\n",
    "from sklearn.linear_model import SGDClassifier, LogisticRegression\n",
    "from sklearn.neural_network import MLPClassifier\n",
    "from joblib import dump, load\n",
    "from sklearn.ensemble import GradientBoostingClassifier, RandomForestClassifier\n",
    "from sklearn import tree\n",
    "import numpy as np\n",
    "import itertools\n",
    "import openpyxl"
   ]
  },
  {
   "cell_type": "code",
   "execution_count": 2,
   "id": "4ed23e63",
   "metadata": {},
   "outputs": [],
   "source": [
    "def plot_confusion_matrix(cm,\n",
    "                          target_names,\n",
    "                          title='Confusion matrix',\n",
    "                          cmap=None,\n",
    "                          normalize=True):\n",
    "    \"\"\"\n",
    "    given a sklearn confusion matrix (cm), make a nice plot\n",
    "\n",
    "    Arguments\n",
    "    ---------\n",
    "    cm:           confusion matrix from sklearn.metrics.confusion_matrix\n",
    "\n",
    "    target_names: given classification classes such as [0, 1, 2]\n",
    "                  the class names, for example: ['high', 'medium', 'low']\n",
    "\n",
    "    title:        the text to display at the top of the matrix\n",
    "\n",
    "    cmap:         the gradient of the values displayed from matplotlib.pyplot.cm\n",
    "                  see http://matplotlib.org/examples/color/colormaps_reference.html\n",
    "                  plt.get_cmap('jet') or plt.cm.Blues\n",
    "\n",
    "    normalize:    If False, plot the raw numbers\n",
    "                  If True, plot the proportions\n",
    "\n",
    "    Usage\n",
    "    -----\n",
    "    plot_confusion_matrix(cm           = cm,                  # confusion matrix created by\n",
    "                                                              # sklearn.metrics.confusion_matrix\n",
    "                          normalize    = True,                # show proportions\n",
    "                          target_names = y_labels_vals,       # list of names of the classes\n",
    "                          title        = best_estimator_name) # title of graph\n",
    "\n",
    "    Citiation\n",
    "    ---------\n",
    "    http://scikit-learn.org/stable/auto_examples/model_selection/plot_confusion_matrix.html\n",
    "\n",
    "    \"\"\"\n",
    "\n",
    "    accuracy = np.trace(cm) / float(np.sum(cm))\n",
    "    misclass = 1 - accuracy\n",
    "\n",
    "    if cmap is None:\n",
    "        cmap = plt.get_cmap('Blues')\n",
    "\n",
    "    plt.figure(figsize=(5, 4))\n",
    "    plt.imshow(cm, interpolation='nearest', cmap=cmap)\n",
    "    plt.title(title)\n",
    "    plt.colorbar()\n",
    "\n",
    "    if target_names is not None:\n",
    "        tick_marks = np.arange(len(target_names))\n",
    "        plt.xticks(tick_marks, target_names, rotation=45)\n",
    "        plt.yticks(tick_marks, target_names)\n",
    "\n",
    "    if normalize:\n",
    "        cm = cm.astype('float') / cm.sum(axis=1)[:, np.newaxis]\n",
    "\n",
    "\n",
    "    thresh = cm.max() / 1.5 if normalize else cm.max() / 2\n",
    "    for i, j in itertools.product(range(cm.shape[0]), range(cm.shape[1])):\n",
    "        if normalize:\n",
    "            plt.text(j, i, \"{:0.4f}\".format(cm[i, j]),\n",
    "                     horizontalalignment=\"center\",\n",
    "                     color=\"white\" if cm[i, j] > thresh else \"black\")\n",
    "        else:\n",
    "            plt.text(j, i, \"{:,}\".format(cm[i, j]),\n",
    "                     horizontalalignment=\"center\",\n",
    "                     color=\"white\" if cm[i, j] > thresh else \"black\")\n",
    "\n",
    "\n",
    "    plt.tight_layout()\n",
    "    plt.ylabel('True label')\n",
    "    #plt.xlabel('Predicted label\\naccuracy={:0.4f}; misclass={:0.4f}'.format(accuracy, misclass))\n",
    "    plt.xlabel('Predicted label')\n",
    "    plt.show()"
   ]
  },
  {
   "cell_type": "code",
   "execution_count": 3,
   "id": "3489a09e",
   "metadata": {},
   "outputs": [],
   "source": [
    "stops = stopwords.words(\"english\")\n",
    "ro = ['eu','tu','el','ea','noi','voi','ei','ele','mea','ta','lui','ei','noastra',\n",
    "'voastra','lor','mie','tie','noua','voua','sunt','esti','este','suntem',\n",
    "'sunteti','am','ai','au','ati','a','i','e','este','cu','ce','cine','cui','cei',\n",
    "'cele','celor','asa','cum','daca','sau','fa','fac','faci','vom','veti','vor',\n",
    "'va','face','facut','deasupra','dedesubt','pe','la','in','de','ca','pentru',\n",
    "'sus','jos','v-am','v-ati','te-ai','ne-am','s-au','acum','atunci','inainte',\n",
    "'inapoi','as','m-as','n-as','n-ai','n-ar','n-am','n-ati','cativa','cateva',\n",
    "'fiecare','fiecaruia','caruia','fel','inainte','inapoi','hai','langa',\n",
    "'mine','tine','dupa','sub','peste','si','sau','da','nu','dar','pana','cand',\n",
    "'fel','o','il','imi','iti','le','ne','aici','acolo','impotriva','din','nou',\n",
    "'hai','cat','cati','cate','cativa','cateva','asta','aia','ala','astea','astia',\n",
    "'facem','faceti','intre','printre','s-a','v-au','ne-au','i-au',\n",
    "'iau','ia','inca','mai','te-ai','te-au','m-ai','i-ai','doar','departe',\n",
    "'aproape','se','ne','ar','pun','pune','haide','vrea','vrem','vreti','aflu','afli',\n",
    "'stiu','stii','stiam','stiati','stiau','stie','afla','aflati','aflau','aflam',\n",
    "'vreo','l-a','l-au','l-ati','sa-ti','sa-mi','sa-i','intr-o','intr-un','nici']\n",
    "stopro = stops + ro\n",
    "def cleantext(string):\n",
    "    text = string.lower().split()\n",
    "    text = \" \".join(text)\n",
    "    text = re.sub(r\"http(\\S)+\",' ',text)    \n",
    "    text = re.sub(r\"www(\\S)+\",' ',text)\n",
    "    text = re.sub(r\"&\",' and ',text)  \n",
    "    tx = text.replace('&amp',' ')\n",
    "    text = re.sub(r\"[^0-9a-zA-Z]+\",' ',text)\n",
    "    text = text.split()\n",
    "    #text = [w for w in text if not w in stopro]\n",
    "    text = \" \".join(text)\n",
    "    return text"
   ]
  },
  {
   "cell_type": "code",
   "execution_count": 13,
   "id": "e7656a5e",
   "metadata": {},
   "outputs": [
    {
     "name": "stdout",
     "output_type": "stream",
     "text": [
      "       id                                               text label\n",
      "726   727  Xi jin Ping e un animal de om nu asa  se face ...  fake\n",
      "727   728  Diploma Activenews pentru programul de rezolva...  real\n",
      "728   729  Mit demontat: „blandul” Omicron, la fel de sev...  real\n",
      "729   730                         @piticu21 Poate au covid !  fake\n",
      "730   731  Companiile Pfizer si Moderna, acuzate de Rusia...  fake\n",
      "..    ...                                                ...   ...\n",
      "995   996  Despre IMUNITATE, vaccin, protectie, cu ANTHON...  fake\n",
      "996   997  Ce s-a intamplat acolo a fost orchestrat de o ...  fake\n",
      "997   998       Publicitatea oficiala la vaccin este ilegala  fake\n",
      "998   999                  Omicron este diversiune si panica  fake\n",
      "999  1000                       Valul 4 e valul vaccinatilor  fake\n",
      "\n",
      "[274 rows x 3 columns]\n"
     ]
    }
   ],
   "source": [
    "xlsdata = pd.ExcelFile('C:/Users/tranca/Desktop/DISER/bazanouaRo.xlsx', engine='openpyxl') \n",
    "traintest = pd.read_excel(xlsdata, header = 0)\n",
    "traintest_train = traintest.iloc[1:725]\n",
    "traintest_test = traintest.iloc[726:1000]\n",
    "print(traintest_test)"
   ]
  },
  {
   "cell_type": "code",
   "execution_count": 14,
   "id": "05e85a32",
   "metadata": {},
   "outputs": [
    {
     "name": "stderr",
     "output_type": "stream",
     "text": [
      "C:\\Users\\tranca\\AppData\\Local\\Temp\\ipykernel_16980\\1261955530.py:1: SettingWithCopyWarning: \n",
      "A value is trying to be set on a copy of a slice from a DataFrame.\n",
      "Try using .loc[row_indexer,col_indexer] = value instead\n",
      "\n",
      "See the caveats in the documentation: https://pandas.pydata.org/pandas-docs/stable/user_guide/indexing.html#returning-a-view-versus-a-copy\n",
      "  traintest_train['label'] = traintest_train['label'].astype(str)\n",
      "C:\\Users\\tranca\\AppData\\Local\\Temp\\ipykernel_16980\\1261955530.py:2: SettingWithCopyWarning: \n",
      "A value is trying to be set on a copy of a slice from a DataFrame.\n",
      "Try using .loc[row_indexer,col_indexer] = value instead\n",
      "\n",
      "See the caveats in the documentation: https://pandas.pydata.org/pandas-docs/stable/user_guide/indexing.html#returning-a-view-versus-a-copy\n",
      "  traintest_train['text'] = traintest_train['text'].astype(str)\n",
      "C:\\Users\\tranca\\AppData\\Local\\Temp\\ipykernel_16980\\1261955530.py:5: SettingWithCopyWarning: \n",
      "A value is trying to be set on a copy of a slice from a DataFrame.\n",
      "Try using .loc[row_indexer,col_indexer] = value instead\n",
      "\n",
      "See the caveats in the documentation: https://pandas.pydata.org/pandas-docs/stable/user_guide/indexing.html#returning-a-view-versus-a-copy\n",
      "  traintest_test['label'] = traintest_test['label'].astype(str)\n",
      "C:\\Users\\tranca\\AppData\\Local\\Temp\\ipykernel_16980\\1261955530.py:6: SettingWithCopyWarning: \n",
      "A value is trying to be set on a copy of a slice from a DataFrame.\n",
      "Try using .loc[row_indexer,col_indexer] = value instead\n",
      "\n",
      "See the caveats in the documentation: https://pandas.pydata.org/pandas-docs/stable/user_guide/indexing.html#returning-a-view-versus-a-copy\n",
      "  traintest_test['text'] = traintest_test['text'].astype(str)\n"
     ]
    }
   ],
   "source": [
    "traintest_train['label'] = traintest_train['label'].astype(str)\n",
    "traintest_train['text'] = traintest_train['text'].astype(str)\n",
    "#traintest_train['text'] = traintest_train['text'].map(lambda x: cleantext(x))\n",
    "\n",
    "traintest_test['label'] = traintest_test['label'].astype(str)\n",
    "traintest_test['text'] = traintest_test['text'].astype(str)\n",
    "#traintest_test['text'] = traintest_test['text'].map(lambda x: cleantext(x))"
   ]
  },
  {
   "cell_type": "code",
   "execution_count": 15,
   "id": "63b7b6ad",
   "metadata": {},
   "outputs": [],
   "source": [
    "def print_metrices(pred,true):\n",
    "    print(confusion_matrix(true,pred))\n",
    "    print(classification_report(true,pred,))\n",
    "    print(\"Accuracy : \",accuracy_score(pred,true))\n",
    "    print(\"Precison : \",precision_score(pred,true, average = 'weighted'))\n",
    "    print(\"Recall : \",recall_score(pred,true,  average = 'weighted'))\n",
    "    print(\"F1 : \",f1_score(pred,true,  average = 'weighted'))"
   ]
  },
  {
   "cell_type": "code",
   "execution_count": 16,
   "id": "100dab9b",
   "metadata": {},
   "outputs": [
    {
     "name": "stdout",
     "output_type": "stream",
     "text": [
      "SVM\n",
      "test:\n",
      "[[ 94  22]\n",
      " [ 52 106]]\n",
      "              precision    recall  f1-score   support\n",
      "\n",
      "        fake       0.64      0.81      0.72       116\n",
      "        real       0.83      0.67      0.74       158\n",
      "\n",
      "    accuracy                           0.73       274\n",
      "   macro avg       0.74      0.74      0.73       274\n",
      "weighted avg       0.75      0.73      0.73       274\n",
      "\n",
      "Accuracy :  0.7299270072992701\n",
      "Precison :  0.7451962136828657\n",
      "Recall :  0.7299270072992701\n",
      "F1 :  0.7286294805100176\n"
     ]
    },
    {
     "data": {
      "image/png": "[encoded data removed]",
      "text/plain": [
       "<Figure size 360x288 with 2 Axes>"
      ]
     },
     "metadata": {
      "needs_background": "light"
     },
     "output_type": "display_data"
    }
   ],
   "source": [
    "pipeline = Pipeline([\n",
    "        ('bow', CountVectorizer()),  \n",
    "        ('tfidf', TfidfTransformer()),  \n",
    "        ('c', LinearSVC())\n",
    "    ])\n",
    "fit = pipeline.fit(traintest_train['text'],traintest_train['label'])\n",
    "print('SVM')\n",
    "print ('test:')\n",
    "\n",
    "pred=pipeline.predict(traintest_test['text'])\n",
    "print_metrices(pred,traintest_test['label'])\n",
    "plot_confusion_matrix(confusion_matrix(traintest_test['label'],pred),target_names=['fake','real'], normalize = False, \\\n",
    "                      title = 'Matricea de confuzie pentru SVM')"
   ]
  },
  {
   "cell_type": "code",
   "execution_count": 17,
   "id": "10dba2dd",
   "metadata": {},
   "outputs": [
    {
     "name": "stdout",
     "output_type": "stream",
     "text": [
      "Logistic Regression\n",
      "test:\n",
      "[[ 91  25]\n",
      " [ 50 108]]\n",
      "              precision    recall  f1-score   support\n",
      "\n",
      "        fake       0.65      0.78      0.71       116\n",
      "        real       0.81      0.68      0.74       158\n",
      "\n",
      "    accuracy                           0.73       274\n",
      "   macro avg       0.73      0.73      0.73       274\n",
      "weighted avg       0.74      0.73      0.73       274\n",
      "\n",
      "Accuracy :  0.7262773722627737\n",
      "Precison :  0.7354870852940895\n",
      "Recall :  0.7262773722627737\n",
      "F1 :  0.7247218597166318\n"
     ]
    },
    {
     "data": {
      "image/png": "[encoded data removed]",
      "text/plain": [
       "<Figure size 360x288 with 2 Axes>"
      ]
     },
     "metadata": {
      "needs_background": "light"
     },
     "output_type": "display_data"
    }
   ],
   "source": [
    "pipeline = Pipeline([\n",
    "        ('bow', CountVectorizer()),  \n",
    "        ('tfidf', TfidfTransformer()),  \n",
    "        ('c', LogisticRegression())\n",
    "    ])\n",
    "fit = pipeline.fit(traintest_train['text'],traintest_train['label'])\n",
    "print('Logistic Regression')\n",
    "print ('test:')\n",
    "pred=pipeline.predict(traintest_test['text'])\n",
    "\n",
    "print_metrices(pred,traintest_test['label'])\n",
    "plot_confusion_matrix(confusion_matrix(traintest_test['label'],pred),target_names=['fake','real'], normalize = False, \\\n",
    "                      title = 'Matricea de confuzie pentru LR')"
   ]
  },
  {
   "cell_type": "code",
   "execution_count": 9,
   "id": "082a50fb",
   "metadata": {},
   "outputs": [
    {
     "name": "stdout",
     "output_type": "stream",
     "text": [
      "Gradient Boost\n",
      "test:\n",
      "[[97 19]\n",
      " [89 69]]\n",
      "              precision    recall  f1-score   support\n",
      "\n",
      "        fake       0.52      0.84      0.64       116\n",
      "        real       0.78      0.44      0.56       158\n",
      "\n",
      "    accuracy                           0.61       274\n",
      "   macro avg       0.65      0.64      0.60       274\n",
      "weighted avg       0.67      0.61      0.60       274\n",
      "\n",
      "Accuracy :  0.6058394160583942\n",
      "Precison :  0.7079009580491098\n",
      "Recall :  0.6058394160583942\n",
      "F1 :  0.6162383115589264\n"
     ]
    },
    {
     "data": {
      "image/png": "[encoded data removed]",
      "text/plain": [
       "<Figure size 360x288 with 2 Axes>"
      ]
     },
     "metadata": {
      "needs_background": "light"
     },
     "output_type": "display_data"
    }
   ],
   "source": [
    "pipeline = Pipeline([\n",
    "        ('bow', CountVectorizer()),  \n",
    "        ('tfidf', TfidfTransformer()),  \n",
    "        ('c', GradientBoostingClassifier())\n",
    "    ])\n",
    "fit = pipeline.fit(traintest_train['text'],traintest_train['label'])\n",
    "print('Gradient Boost')\n",
    "print ('test:')\n",
    "pred=pipeline.predict(traintest_test['text'])\n",
    "\n",
    "print_metrices(pred,traintest_test['label'])\n",
    "plot_confusion_matrix(confusion_matrix(traintest_test['label'],pred),target_names=['fake','real'], normalize = False, \\\n",
    "                      title = 'Matricea de confuzie pentru GDBT')"
   ]
  },
  {
   "cell_type": "code",
   "execution_count": 10,
   "id": "9f8fe3d0",
   "metadata": {},
   "outputs": [
    {
     "name": "stdout",
     "output_type": "stream",
     "text": [
      "Decision Tree\n",
      "test:\n",
      "[[87 29]\n",
      " [80 78]]\n",
      "              precision    recall  f1-score   support\n",
      "\n",
      "        fake       0.52      0.75      0.61       116\n",
      "        real       0.73      0.49      0.59       158\n",
      "\n",
      "    accuracy                           0.60       274\n",
      "   macro avg       0.62      0.62      0.60       274\n",
      "weighted avg       0.64      0.60      0.60       274\n",
      "\n",
      "Accuracy :  0.6021897810218978\n",
      "Precison :  0.6499006744895132\n",
      "Recall :  0.6021897810218978\n",
      "F1 :  0.6046245418794343\n"
     ]
    },
    {
     "data": {
      "image/png": "[encoded data removed]",
      "text/plain": [
       "<Figure size 360x288 with 2 Axes>"
      ]
     },
     "metadata": {
      "needs_background": "light"
     },
     "output_type": "display_data"
    }
   ],
   "source": [
    "#minor variations in final results due to randomness\n",
    "pipeline = Pipeline([\n",
    "        ('bow', CountVectorizer()),  \n",
    "        ('tfidf', TfidfTransformer()),  \n",
    "        ('c', tree.DecisionTreeClassifier())\n",
    "    ])\n",
    "fit = pipeline.fit(traintest_train['text'],traintest_train['label'])\n",
    "print('Decision Tree')\n",
    "print ('test:')\n",
    "pred=pipeline.predict(traintest_test['text'])\n",
    "\n",
    "print_metrices(pred,traintest_test['label'])\n",
    "plot_confusion_matrix(confusion_matrix(traintest_test['label'],pred),target_names=['fake','real'], normalize = False, \\\n",
    "                      title = 'Matricea de confuzie pentru DT')"
   ]
  },
  {
   "cell_type": "code",
   "execution_count": 11,
   "id": "7c22cb4c",
   "metadata": {},
   "outputs": [
    {
     "name": "stdout",
     "output_type": "stream",
     "text": [
      "Decision Tree\n",
      "test:\n",
      "[[95 21]\n",
      " [68 90]]\n",
      "              precision    recall  f1-score   support\n",
      "\n",
      "        fake       0.58      0.82      0.68       116\n",
      "        real       0.81      0.57      0.67       158\n",
      "\n",
      "    accuracy                           0.68       274\n",
      "   macro avg       0.70      0.69      0.68       274\n",
      "weighted avg       0.71      0.68      0.67       274\n",
      "\n",
      "Accuracy :  0.6751824817518248\n",
      "Precison :  0.7179533847139076\n",
      "Recall :  0.6751824817518248\n",
      "F1 :  0.6761995517014368\n"
     ]
    },
    {
     "data": {
      "image/png": "[encoded data removed]",
      "text/plain": [
       "<Figure size 360x288 with 2 Axes>"
      ]
     },
     "metadata": {
      "needs_background": "light"
     },
     "output_type": "display_data"
    }
   ],
   "source": [
    "pipeline = Pipeline([\n",
    "        ('bow', CountVectorizer()),  \n",
    "        ('tfidf', TfidfTransformer()),  \n",
    "        ('c', RandomForestClassifier())\n",
    "    ])\n",
    "fit = pipeline.fit(traintest_train['text'],traintest_train['label'])\n",
    "print('Decision Tree')\n",
    "print ('test:')\n",
    "pred=pipeline.predict(traintest_test['text'])\n",
    "\n",
    "print_metrices(pred,traintest_test['label'])\n",
    "plot_confusion_matrix(confusion_matrix(traintest_test['label'],pred),target_names=['fake','real'], normalize = False, \\\n",
    "                      title = 'Matricea de confuzie pentru RF')"
   ]
  },
  {
   "cell_type": "code",
   "execution_count": 12,
   "id": "f5dcba34",
   "metadata": {},
   "outputs": [
    {
     "name": "stdout",
     "output_type": "stream",
     "text": [
      "Decision Tree\n",
      "test:\n",
      "[[ 85  31]\n",
      " [ 46 112]]\n",
      "              precision    recall  f1-score   support\n",
      "\n",
      "        fake       0.65      0.73      0.69       116\n",
      "        real       0.78      0.71      0.74       158\n",
      "\n",
      "    accuracy                           0.72       274\n",
      "   macro avg       0.72      0.72      0.72       274\n",
      "weighted avg       0.73      0.72      0.72       274\n",
      "\n",
      "Accuracy :  0.718978102189781\n",
      "Precison :  0.7202863792625539\n",
      "Recall :  0.718978102189781\n",
      "F1 :  0.7174472553686162\n"
     ]
    },
    {
     "data": {
      "image/png": "[encoded data removed]",
      "text/plain": [
       "<Figure size 360x288 with 2 Axes>"
      ]
     },
     "metadata": {
      "needs_background": "light"
     },
     "output_type": "display_data"
    }
   ],
   "source": [
    "pipeline = Pipeline([\n",
    "        ('bow', CountVectorizer()),  \n",
    "        ('tfidf', TfidfTransformer()),  \n",
    "        ('c',MLPClassifier())\n",
    "    ])\n",
    "fit = pipeline.fit(traintest_train['text'],traintest_train['label'])\n",
    "print('Decision Tree')\n",
    "print ('test:')\n",
    "pred=pipeline.predict(traintest_test['text'])\n",
    "\n",
    "print_metrices(pred,traintest_test['label'])\n",
    "plot_confusion_matrix(confusion_matrix(traintest_test['label'],pred),target_names=['fake','real'], normalize = False, \\\n",
    "                      title = 'Matricea de confuzie pentru MLP')"
   ]
  },
  {
   "cell_type": "code",
   "execution_count": null,
   "id": "f0ba1966",
   "metadata": {},
   "outputs": [],
   "source": []
  }
 ],
 "metadata": {
  "kernelspec": {
   "display_name": "Python 3 (ipykernel)",
   "language": "python",
   "name": "python3"
  },
  "language_info": {
   "codemirror_mode": {
    "name": "ipython",
    "version": 3
   },
   "file_extension": ".py",
   "mimetype": "text/x-python",
   "name": "python",
   "nbconvert_exporter": "python",
   "pygments_lexer": "ipython3",
   "version": "3.10.3"
  }
 },
 "nbformat": 4,
 "nbformat_minor": 5
}
